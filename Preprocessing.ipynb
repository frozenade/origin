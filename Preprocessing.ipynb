{
 "cells": [
  {
   "cell_type": "markdown",
   "metadata": {},
   "source": [
    "# Text Processing dengan Metode TF-IDF #"
   ]
  },
  {
   "cell_type": "markdown",
   "metadata": {},
   "source": [
    "## 1. Mengolah Dataset"
   ]
  },
  {
   "cell_type": "markdown",
   "metadata": {},
   "source": [
    "A. Mendapatkan data"
   ]
  },
  {
   "cell_type": "code",
   "execution_count": 104,
   "metadata": {},
   "outputs": [
    {
     "data": {
      "text/html": [
       "<div>\n",
       "<style scoped>\n",
       "    .dataframe tbody tr th:only-of-type {\n",
       "        vertical-align: middle;\n",
       "    }\n",
       "\n",
       "    .dataframe tbody tr th {\n",
       "        vertical-align: top;\n",
       "    }\n",
       "\n",
       "    .dataframe thead th {\n",
       "        text-align: right;\n",
       "    }\n",
       "</style>\n",
       "<table border=\"1\" class=\"dataframe\">\n",
       "  <thead>\n",
       "    <tr style=\"text-align: right;\">\n",
       "      <th></th>\n",
       "      <th>Tempat</th>\n",
       "      <th>Komentar</th>\n",
       "    </tr>\n",
       "  </thead>\n",
       "  <tbody>\n",
       "    <tr>\n",
       "      <th>0</th>\n",
       "      <td>Nama Tempat</td>\n",
       "      <td>Komentar</td>\n",
       "    </tr>\n",
       "    <tr>\n",
       "      <th>1</th>\n",
       "      <td>Punclut Dago</td>\n",
       "      <td>kemarin gue datang ke tempat makan baru yg ada...</td>\n",
       "    </tr>\n",
       "    <tr>\n",
       "      <th>2</th>\n",
       "      <td>Punclut Dago</td>\n",
       "      <td>tidak mau lagi deh ketempat itu, tempatnya ter...</td>\n",
       "    </tr>\n",
       "    <tr>\n",
       "      <th>3</th>\n",
       "      <td>Punclut Dago</td>\n",
       "      <td>kayak nya sih gue tidak akan mau balik lagi ke...</td>\n",
       "    </tr>\n",
       "    <tr>\n",
       "      <th>4</th>\n",
       "      <td>Punclut Dago</td>\n",
       "      <td>gila ya gue enggak ngrti, kenapa tempat nya di...</td>\n",
       "    </tr>\n",
       "    <tr>\n",
       "      <th>5</th>\n",
       "      <td>Punclut Dago</td>\n",
       "      <td>pelayanan di hotel tidak sebagus yang gue baya...</td>\n",
       "    </tr>\n",
       "    <tr>\n",
       "      <th>6</th>\n",
       "      <td>Punclut Dago</td>\n",
       "      <td>saya boking hotel lewat online sampai sekarang...</td>\n",
       "    </tr>\n",
       "    <tr>\n",
       "      <th>7</th>\n",
       "      <td>Punclut Dago</td>\n",
       "      <td>tempatnya mantabss buwat liat pemandangan sore</td>\n",
       "    </tr>\n",
       "  </tbody>\n",
       "</table>\n",
       "</div>"
      ],
      "text/plain": [
       "         Tempat                                           Komentar\n",
       "0   Nama Tempat                                           Komentar\n",
       "1  Punclut Dago  kemarin gue datang ke tempat makan baru yg ada...\n",
       "2  Punclut Dago  tidak mau lagi deh ketempat itu, tempatnya ter...\n",
       "3  Punclut Dago  kayak nya sih gue tidak akan mau balik lagi ke...\n",
       "4  Punclut Dago  gila ya gue enggak ngrti, kenapa tempat nya di...\n",
       "5  Punclut Dago  pelayanan di hotel tidak sebagus yang gue baya...\n",
       "6  Punclut Dago  saya boking hotel lewat online sampai sekarang...\n",
       "7  Punclut Dago     tempatnya mantabss buwat liat pemandangan sore"
      ]
     },
     "execution_count": 104,
     "metadata": {},
     "output_type": "execute_result"
    }
   ],
   "source": [
    "#library nltk dan punkt\n",
    "import nltk\n",
    "\n",
    "#cukup dijalankan satu kali\n",
    "#nltk.download('punkt')\n",
    "\n",
    "#library pandas\n",
    "import pandas as pd \n",
    "\n",
    "#library untuk menampilkan dokumen worksheet\n",
    "from openpyxl import load_workbook\n",
    "\n",
    "#library nltk untuk tokenizing\n",
    "from nltk.tokenize import word_tokenize\n",
    "\n",
    "#library sastrawi untuk stemming\n",
    "#sebelumnya instal library lewat command: pip install PySastrawi\n",
    "from Sastrawi.Stemmer.StemmerFactory import StemmerFactory\n",
    "\n",
    "wr = load_workbook(filename = 'datasets.xlsx')\n",
    "sheet_range = wr['Sheet1']\n",
    "\n",
    "df = pd.DataFrame(sheet_range.values)\n",
    "df.columns = ['Tempat','Komentar']\n",
    "df"
   ]
  },
  {
   "cell_type": "markdown",
   "metadata": {},
   "source": [
    "B. Hanya mengambil kolom komentar"
   ]
  },
  {
   "cell_type": "code",
   "execution_count": 105,
   "metadata": {},
   "outputs": [
    {
     "data": {
      "text/html": [
       "<div>\n",
       "<style scoped>\n",
       "    .dataframe tbody tr th:only-of-type {\n",
       "        vertical-align: middle;\n",
       "    }\n",
       "\n",
       "    .dataframe tbody tr th {\n",
       "        vertical-align: top;\n",
       "    }\n",
       "\n",
       "    .dataframe thead th {\n",
       "        text-align: right;\n",
       "    }\n",
       "</style>\n",
       "<table border=\"1\" class=\"dataframe\">\n",
       "  <thead>\n",
       "    <tr style=\"text-align: right;\">\n",
       "      <th></th>\n",
       "      <th>Komentar</th>\n",
       "    </tr>\n",
       "  </thead>\n",
       "  <tbody>\n",
       "    <tr>\n",
       "      <th>0</th>\n",
       "      <td>Komentar</td>\n",
       "    </tr>\n",
       "    <tr>\n",
       "      <th>1</th>\n",
       "      <td>kemarin gue datang ke tempat makan baru yg ada...</td>\n",
       "    </tr>\n",
       "    <tr>\n",
       "      <th>2</th>\n",
       "      <td>tidak mau lagi deh ketempat itu, tempatnya ter...</td>\n",
       "    </tr>\n",
       "    <tr>\n",
       "      <th>3</th>\n",
       "      <td>kayak nya sih gue tidak akan mau balik lagi ke...</td>\n",
       "    </tr>\n",
       "    <tr>\n",
       "      <th>4</th>\n",
       "      <td>gila ya gue enggak ngrti, kenapa tempat nya di...</td>\n",
       "    </tr>\n",
       "    <tr>\n",
       "      <th>5</th>\n",
       "      <td>pelayanan di hotel tidak sebagus yang gue baya...</td>\n",
       "    </tr>\n",
       "    <tr>\n",
       "      <th>6</th>\n",
       "      <td>saya boking hotel lewat online sampai sekarang...</td>\n",
       "    </tr>\n",
       "    <tr>\n",
       "      <th>7</th>\n",
       "      <td>tempatnya mantabss buwat liat pemandangan sore</td>\n",
       "    </tr>\n",
       "  </tbody>\n",
       "</table>\n",
       "</div>"
      ],
      "text/plain": [
       "                                            Komentar\n",
       "0                                           Komentar\n",
       "1  kemarin gue datang ke tempat makan baru yg ada...\n",
       "2  tidak mau lagi deh ketempat itu, tempatnya ter...\n",
       "3  kayak nya sih gue tidak akan mau balik lagi ke...\n",
       "4  gila ya gue enggak ngrti, kenapa tempat nya di...\n",
       "5  pelayanan di hotel tidak sebagus yang gue baya...\n",
       "6  saya boking hotel lewat online sampai sekarang...\n",
       "7     tempatnya mantabss buwat liat pemandangan sore"
      ]
     },
     "execution_count": 105,
     "metadata": {},
     "output_type": "execute_result"
    }
   ],
   "source": [
    "# tampilkan komentar\n",
    "df[['Komentar']]"
   ]
  },
  {
   "cell_type": "markdown",
   "metadata": {},
   "source": [
    "## 2. Text Processing"
   ]
  },
  {
   "cell_type": "markdown",
   "metadata": {},
   "source": [
    "A. Mengambil komentar ke dalam list"
   ]
  },
  {
   "cell_type": "code",
   "execution_count": 106,
   "metadata": {},
   "outputs": [
    {
     "data": {
      "text/plain": [
       "['Komentar',\n",
       " 'kemarin gue datang ke tempat makan baru yg ada di dago atas . gue kira makanan nya enak karena harga nya mahal, ternyata boro boro',\n",
       " 'tidak mau lagi deh ketempat itu, tempatnya terlalu sempit',\n",
       " 'kayak nya sih gue tidak akan mau balik lagi ke tempat itu .',\n",
       " 'gila ya gue enggak ngrti, kenapa tempat nya dibiarkan panas',\n",
       " 'pelayanan di hotel tidak sebagus yang gue bayangkan. . .  ',\n",
       " 'saya boking hotel lewat online sampai sekarang tidak ada konformasi nya .',\n",
       " 'tempatnya mantabss buwat liat pemandangan sore']"
      ]
     },
     "execution_count": 106,
     "metadata": {},
     "output_type": "execute_result"
    }
   ],
   "source": [
    "#deklarasi variabel komentar pada list\n",
    "komentar = []\n",
    "\n",
    "#masukan data kedalam list\n",
    "komentar = df['Komentar'].values.tolist()\n",
    "\n",
    "#cetak data dalam list\n",
    "komentar"
   ]
  },
  {
   "cell_type": "markdown",
   "metadata": {},
   "source": [
    "B. Substitusion (Perbaikan Slankword)"
   ]
  },
  {
   "cell_type": "code",
   "execution_count": 107,
   "metadata": {},
   "outputs": [
    {
     "name": "stdout",
     "output_type": "stream",
     "text": [
      "['Komentar', 'kemarin saya datang ke tempat makan baru yang ada di dago atas . saya kira makanan nya enak karena harga nya mahal, ternyata jangankan jangankan', 'tidak mau lagi deh ketempat itu, tempatnya terlalu sempit', 'sepertinya nya sih saya tidak akan mau kembali lagi ke tempat itu .', 'gila ya saya tidak mengerti, kenapa tempat nya dibiarkan panas', 'pelayanan di hotel tidak sebagus yang saya bayangkan. . .  ', 'saya memesan hotel lewat online sampai sekarang tidak ada konfirmasi nya .', 'tempatnya mantabss buat lihat pemandangan sore']\n"
     ]
    }
   ],
   "source": [
    "#mengubah kata menjadi baku\n",
    "slankword = {\n",
    "    \"gue\" : \"saya\",\n",
    "    \"boro\" : \"jangankan\",\n",
    "    \"boking\" : \"memesan\",\n",
    "    \"konformasi\" : \"konfirmasi\",\n",
    "    \"yg\" : \"yang\",\n",
    "    \"enggak\" : \"tidak\",\n",
    "    \"ngrti\" : \"mengerti\",\n",
    "    \"kayak\" : \"sepertinya\",\n",
    "    \"buwat\" : \"buat\",\n",
    "    \"liat\" : \"lihat\",\n",
    "    \"balik\" : \"kembali\"\n",
    "}\n",
    "\n",
    "for index, text in enumerate(komentar):\n",
    "    text = text.lower()\n",
    "    splitlines = word_tokenize(text)\n",
    "    for word in splitlines:\n",
    "        if word in slankword:\n",
    "            text = text.replace(word, str(slankword[word]));\n",
    "            komentar[index] = text\n",
    "\n",
    "#komentar\n",
    "\n",
    "#slank menggunakan fungsi\n",
    "def slank(texts):\n",
    "    text_list = []\n",
    "    for index, text in enumerate(texts):\n",
    "        text = text.lower()\n",
    "        splitlines = word_tokenize(text)\n",
    "        for word in splitlines:\n",
    "            if word in slankword:\n",
    "                text = text.replace(word, str(slankword[word]))\n",
    "                text[index] = text\n",
    "    return texts\n",
    "\n",
    "print(slank(komentar))"
   ]
  },
  {
   "cell_type": "markdown",
   "metadata": {},
   "source": [
    "C. Mendapatkan teks"
   ]
  },
  {
   "cell_type": "code",
   "execution_count": 108,
   "metadata": {},
   "outputs": [
    {
     "name": "stdout",
     "output_type": "stream",
     "text": [
      "[['Komentar', 'kemarin gue datang ke tempat makan baru yg ada di dago atas . gue kira makanan nya enak karena harga nya mahal, ternyata boro boro', 'tidak mau lagi deh ketempat itu, tempatnya terlalu sempit', 'kayak nya sih gue tidak akan mau balik lagi ke tempat itu .', 'gila ya gue enggak ngrti, kenapa tempat nya dibiarkan panas', 'pelayanan di hotel tidak sebagus yang gue bayangkan. . .  ', 'saya boking hotel lewat online sampai sekarang tidak ada konformasi nya .', 'tempatnya mantabss buwat liat pemandangan sore']]\n"
     ]
    }
   ],
   "source": [
    "#menampilkan daftar komentar\n",
    "list_review=[]\n",
    "list_review.append(df['Komentar'].values.tolist())\n",
    "\n",
    "print (list_review)"
   ]
  },
  {
   "cell_type": "markdown",
   "metadata": {},
   "source": [
    "D. Tokenizing (Memecah Kata) dan Casefolding (Menjadikan Teks Huruf Kecil)"
   ]
  },
  {
   "cell_type": "code",
   "execution_count": 109,
   "metadata": {},
   "outputs": [
    {
     "name": "stdout",
     "output_type": "stream",
     "text": [
      "komentar\n",
      "kemarin\n",
      "gue\n",
      "datang\n",
      "ke\n",
      "tempat\n",
      "makan\n",
      "baru\n",
      "yg\n",
      "ada\n",
      "di\n",
      "dago\n",
      "atas\n",
      ".\n",
      "gue\n",
      "kira\n",
      "makanan\n",
      "nya\n",
      "enak\n",
      "karena\n",
      "harga\n",
      "nya\n",
      "mahal\n",
      ",\n",
      "ternyata\n",
      "boro\n",
      "boro\n",
      "tidak\n",
      "mau\n",
      "lagi\n",
      "deh\n",
      "ketempat\n",
      "itu\n",
      ",\n",
      "tempatnya\n",
      "terlalu\n",
      "sempit\n",
      "kayak\n",
      "nya\n",
      "sih\n",
      "gue\n",
      "tidak\n",
      "akan\n",
      "mau\n",
      "balik\n",
      "lagi\n",
      "ke\n",
      "tempat\n",
      "itu\n",
      ".\n",
      "gila\n",
      "ya\n",
      "gue\n",
      "enggak\n",
      "ngrti\n",
      ",\n",
      "kenapa\n",
      "tempat\n",
      "nya\n",
      "dibiarkan\n",
      "panas\n",
      "pelayanan\n",
      "di\n",
      "hotel\n",
      "tidak\n",
      "sebagus\n",
      "yang\n",
      "gue\n",
      "bayangkan\n",
      ".\n",
      ".\n",
      ".\n",
      "saya\n",
      "boking\n",
      "hotel\n",
      "lewat\n",
      "online\n",
      "sampai\n",
      "sekarang\n",
      "tidak\n",
      "ada\n",
      "konformasi\n",
      "nya\n",
      ".\n",
      "tempatnya\n",
      "mantabss\n",
      "buwat\n",
      "liat\n",
      "pemandangan\n",
      "sore\n"
     ]
    }
   ],
   "source": [
    "#download library untuk tokenizing: import nltk nltk.download('punkt') \n",
    "\n",
    "#library untuk memanggil fungsi tokenisasi\n",
    "from nltk.tokenize import word_tokenize\n",
    "\n",
    "#mengambil library yang sebelumnya\n",
    "for i in list_review:\n",
    "    for j in i:\n",
    "        df_token = word_tokenize(j)\n",
    "        for k in df_token:\n",
    "            #memanggil fugsi lower untuk casefolding (mengecilkan huruf)\n",
    "            kecil = k.lower() \n",
    "            #hasil dari teks yang sudah dikecilkan hurufnya\n",
    "            print(kecil)"
   ]
  },
  {
   "cell_type": "markdown",
   "metadata": {},
   "source": [
    "E. Memproses Kata Ke Dalam List"
   ]
  },
  {
   "cell_type": "code",
   "execution_count": 110,
   "metadata": {},
   "outputs": [
    {
     "name": "stdout",
     "output_type": "stream",
     "text": [
      "[['komentar'], ['kemarin', 'saya', 'datang', 'ke', 'tempat', 'makan', 'baru', 'yang', 'ada', 'di', 'dago', 'atas', '.', 'saya', 'kira', 'makanan', 'nya', 'enak', 'karena', 'harga', 'nya', 'mahal', ',', 'ternyata', 'jangankan', 'jangankan'], ['tidak', 'mau', 'lagi', 'deh', 'ketempat', 'itu', ',', 'tempatnya', 'terlalu', 'sempit'], ['sepertinya', 'nya', 'sih', 'saya', 'tidak', 'akan', 'mau', 'kembali', 'lagi', 'ke', 'tempat', 'itu', '.'], ['gila', 'ya', 'saya', 'tidak', 'mengerti', ',', 'kenapa', 'tempat', 'nya', 'dibiarkan', 'panas'], ['pelayanan', 'di', 'hotel', 'tidak', 'sebagus', 'yang', 'saya', 'bayangkan', '.', '.', '.'], ['saya', 'memesan', 'hotel', 'lewat', 'online', 'sampai', 'sekarang', 'tidak', 'ada', 'konfirmasi', 'nya', '.'], ['tempatnya', 'mantabss', 'buat', 'lihat', 'pemandangan', 'sore']]\n"
     ]
    }
   ],
   "source": [
    "#melakukan tokenisasi dari kalimat ke dalam daftar kata\n",
    "tokenisasi_komentar = []\n",
    "for y in komentar:\n",
    "    lowerkomentar = y.lower()\n",
    "    proses_tokenisasi = word_tokenize(lowerkomentar)\n",
    "    tokenisasi_komentar.append(proses_tokenisasi)\n",
    "    \n",
    "print(tokenisasi_komentar)"
   ]
  },
  {
   "cell_type": "markdown",
   "metadata": {},
   "source": [
    "F. Filtering atau Stopwords (Menghilangkan Kata Yang Tidak Berarti)"
   ]
  },
  {
   "cell_type": "code",
   "execution_count": 111,
   "metadata": {
    "scrolled": true
   },
   "outputs": [
    {
     "name": "stdout",
     "output_type": "stream",
     "text": [
      "['komentar', 'kemarin', 'saya', 'datang', 'ke', 'tempat', 'makan', 'baru', 'yang', 'ada', 'di', 'dago', 'atas', 'saya', 'kira', 'makanan', 'nya', 'enak', 'karena', 'harga', 'nya', 'mahal', 'ternyata', 'jangankan', 'jangankan', 'tidak', 'mau', 'lagi', 'deh', 'ketempat', 'itu', 'tempatnya', 'terlalu', 'sempit', 'sepertinya', 'nya', 'sih', 'saya', 'tidak', 'akan', 'mau', 'kembali', 'lagi', 'ke', 'tempat', 'itu', 'gila', 'ya', 'saya', 'tidak', 'mengerti', 'kenapa', 'tempat', 'nya', 'dibiarkan', 'panas', 'pelayanan', 'di', 'hotel', 'tidak', 'sebagus', 'yang', 'saya', 'bayangkan', 'saya', 'memesan', 'hotel', 'lewat', 'online', 'sampai', 'sekarang', 'tidak', 'ada', 'konfirmasi', 'nya', 'tempatnya', 'buat', 'lihat', 'pemandangan', 'sore']\n"
     ]
    }
   ],
   "source": [
    "#stopword kata yang mau dibuang\n",
    "stopword = ('mantabss','.',',')\n",
    "\n",
    "#deklarasi variabel proses filtering\n",
    "filtering = []\n",
    "\n",
    "#perulangan untuk melakukan tokenisasi\n",
    "for a in tokenisasi_komentar:\n",
    "    for b in a:\n",
    "        if b not in stopword:\n",
    "            filtering.append(b)\n",
    "\n",
    "#mencetak hasil filtering            \n",
    "print(filtering)"
   ]
  },
  {
   "cell_type": "markdown",
   "metadata": {},
   "source": [
    "G. Stemming (Menghilangkan Imbuhan Pada Kata)"
   ]
  },
  {
   "cell_type": "code",
   "execution_count": 112,
   "metadata": {},
   "outputs": [
    {
     "name": "stdout",
     "output_type": "stream",
     "text": [
      "komentar  :  komentar\n",
      "kemarin  :  kemarin\n",
      "saya  :  saya\n",
      "datang  :  datang\n",
      "ke  :  ke\n",
      "tempat  :  tempat\n",
      "makan  :  makan\n",
      "baru  :  baru\n",
      "yang  :  yang\n",
      "ada  :  ada\n",
      "di  :  di\n",
      "dago  :  dago\n",
      "atas  :  atas\n",
      "saya  :  saya\n",
      "kira  :  kira\n",
      "makanan  :  makan\n",
      "nya  :  nya\n",
      "enak  :  enak\n",
      "karena  :  karena\n",
      "harga  :  harga\n",
      "nya  :  nya\n",
      "mahal  :  mahal\n",
      "ternyata  :  nyata\n",
      "jangankan  :  jangan\n",
      "jangankan  :  jangan\n",
      "tidak  :  tidak\n",
      "mau  :  mau\n",
      "lagi  :  lagi\n",
      "deh  :  deh\n",
      "ketempat  :  tempat\n",
      "itu  :  itu\n",
      "tempatnya  :  tempat\n",
      "terlalu  :  terlalu\n",
      "sempit  :  sempit\n",
      "sepertinya  :  seperti\n",
      "nya  :  nya\n",
      "sih  :  sih\n",
      "saya  :  saya\n",
      "tidak  :  tidak\n",
      "akan  :  akan\n",
      "mau  :  mau\n",
      "kembali  :  kembali\n",
      "lagi  :  lagi\n",
      "ke  :  ke\n",
      "tempat  :  tempat\n",
      "itu  :  itu\n",
      "gila  :  gila\n",
      "ya  :  ya\n",
      "saya  :  saya\n",
      "tidak  :  tidak\n",
      "mengerti  :  erti\n",
      "kenapa  :  kenapa\n",
      "tempat  :  tempat\n",
      "nya  :  nya\n",
      "dibiarkan  :  biar\n",
      "panas  :  panas\n",
      "pelayanan  :  layan\n",
      "di  :  di\n",
      "hotel  :  hotel\n",
      "tidak  :  tidak\n",
      "sebagus  :  bagus\n",
      "yang  :  yang\n",
      "saya  :  saya\n",
      "bayangkan  :  bayang\n",
      "saya  :  saya\n",
      "memesan  :  mes\n",
      "hotel  :  hotel\n",
      "lewat  :  lewat\n",
      "online  :  online\n",
      "sampai  :  sampai\n",
      "sekarang  :  sekarang\n",
      "tidak  :  tidak\n",
      "ada  :  ada\n",
      "konfirmasi  :  konfirmasi\n",
      "nya  :  nya\n",
      "tempatnya  :  tempat\n",
      "buat  :  buat\n",
      "lihat  :  lihat\n",
      "pemandangan  :  pandang\n",
      "sore  :  sore\n"
     ]
    }
   ],
   "source": [
    "factory = StemmerFactory()\n",
    "stemmer = factory.create_stemmer()\n",
    "\n",
    "for x in filtering:\n",
    "    print (x, \" : \",stemmer.stem(x))\n",
    "    "
   ]
  },
  {
   "cell_type": "markdown",
   "metadata": {},
   "source": [
    "## 3. Mengolah Kata Dengan TF-IDF"
   ]
  },
  {
   "cell_type": "code",
   "execution_count": 121,
   "metadata": {},
   "outputs": [],
   "source": [
    "from sklearn.feature_extraction.text import CountVectorizer, TfidfTransformer"
   ]
  },
  {
   "cell_type": "code",
   "execution_count": 122,
   "metadata": {},
   "outputs": [
    {
     "name": "stdout",
     "output_type": "stream",
     "text": [
      "55\n"
     ]
    }
   ],
   "source": [
    "#untuk menghitung jumlah kata yang telah distemming\n",
    "cv = CountVectorizer()\n",
    "term_fit = cv.fit(filtering)\n",
    "\n",
    "print (len(term_fit.vocabulary_))"
   ]
  },
  {
   "cell_type": "code",
   "execution_count": 123,
   "metadata": {},
   "outputs": [
    {
     "name": "stdout",
     "output_type": "stream",
     "text": [
      "{'komentar': 24, 'kemarin': 19, 'saya': 41, 'datang': 7, 'ke': 18, 'tempat': 48, 'makan': 30, 'baru': 3, 'yang': 54, 'ada': 0, 'di': 9, 'dago': 6, 'atas': 2, 'kira': 23, 'makanan': 31, 'nya': 35, 'enak': 11, 'karena': 17, 'harga': 13, 'mahal': 29, 'ternyata': 51, 'jangankan': 16, 'tidak': 52, 'mau': 32, 'lagi': 26, 'deh': 8, 'ketempat': 22, 'itu': 15, 'tempatnya': 49, 'terlalu': 50, 'sempit': 44, 'sepertinya': 45, 'sih': 46, 'akan': 1, 'kembali': 20, 'gila': 12, 'ya': 53, 'mengerti': 34, 'kenapa': 21, 'dibiarkan': 10, 'panas': 37, 'pelayanan': 38, 'hotel': 14, 'sebagus': 42, 'bayangkan': 4, 'memesan': 33, 'lewat': 27, 'online': 36, 'sampai': 40, 'sekarang': 43, 'konfirmasi': 25, 'buat': 5, 'lihat': 28, 'pemandangan': 39, 'sore': 47}\n"
     ]
    }
   ],
   "source": [
    "#mengurutkan berdasarkan urutan abjad kata\n",
    "print (term_fit.vocabulary_)"
   ]
  },
  {
   "cell_type": "code",
   "execution_count": 124,
   "metadata": {},
   "outputs": [
    {
     "name": "stdout",
     "output_type": "stream",
     "text": [
      "['ada', 'akan', 'atas', 'baru', 'bayangkan', 'buat', 'dago', 'datang', 'deh', 'di', 'dibiarkan', 'enak', 'gila', 'harga', 'hotel', 'itu', 'jangankan', 'karena', 'ke', 'kemarin', 'kembali', 'kenapa', 'ketempat', 'kira', 'komentar', 'konfirmasi', 'lagi', 'lewat', 'lihat', 'mahal', 'makan', 'makanan', 'mau', 'memesan', 'mengerti', 'nya', 'online', 'panas', 'pelayanan', 'pemandangan', 'sampai', 'saya', 'sebagus', 'sekarang', 'sempit', 'sepertinya', 'sih', 'sore', 'tempat', 'tempatnya', 'terlalu', 'ternyata', 'tidak', 'ya', 'yang']\n"
     ]
    }
   ],
   "source": [
    "#mengurutkan berdasarkan urutkan nama\n",
    "print (term_fit.get_feature_names())"
   ]
  },
  {
   "cell_type": "code",
   "execution_count": 125,
   "metadata": {},
   "outputs": [
    {
     "name": "stdout",
     "output_type": "stream",
     "text": [
      "  (0, 24)\t1\n",
      "  (1, 0)\t1\n",
      "  (1, 2)\t1\n",
      "  (1, 3)\t1\n",
      "  (1, 6)\t1\n",
      "  (1, 7)\t1\n",
      "  (1, 9)\t1\n",
      "  (1, 11)\t1\n",
      "  (1, 13)\t1\n",
      "  (1, 16)\t2\n",
      "  (1, 17)\t1\n",
      "  (1, 18)\t1\n",
      "  (1, 19)\t1\n",
      "  (1, 23)\t1\n",
      "  (1, 29)\t1\n",
      "  (1, 30)\t1\n",
      "  (1, 31)\t1\n",
      "  (1, 35)\t2\n",
      "  (1, 41)\t2\n",
      "  (1, 48)\t1\n",
      "  (1, 51)\t1\n",
      "  (1, 54)\t1\n",
      "  (2, 8)\t1\n",
      "  (2, 15)\t1\n",
      "  (2, 22)\t1\n",
      "  :\t:\n",
      "  (4, 53)\t1\n",
      "  (5, 4)\t1\n",
      "  (5, 9)\t1\n",
      "  (5, 14)\t1\n",
      "  (5, 38)\t1\n",
      "  (5, 41)\t1\n",
      "  (5, 42)\t1\n",
      "  (5, 52)\t1\n",
      "  (5, 54)\t1\n",
      "  (6, 0)\t1\n",
      "  (6, 14)\t1\n",
      "  (6, 25)\t1\n",
      "  (6, 27)\t1\n",
      "  (6, 33)\t1\n",
      "  (6, 35)\t1\n",
      "  (6, 36)\t1\n",
      "  (6, 40)\t1\n",
      "  (6, 41)\t1\n",
      "  (6, 43)\t1\n",
      "  (6, 52)\t1\n",
      "  (7, 5)\t1\n",
      "  (7, 28)\t1\n",
      "  (7, 39)\t1\n",
      "  (7, 47)\t1\n",
      "  (7, 49)\t1\n"
     ]
    }
   ],
   "source": [
    "#kolom pertama menunjukkan jumlah dokumen\n",
    "#kolom kedua menunjukkan letak katanya\n",
    "#kolom ketiga menunjukkan hasil dari tf\n",
    "\n",
    "term_frequency_all = term_fit.transform(komentar)\n",
    "print (term_frequency_all)"
   ]
  },
  {
   "cell_type": "code",
   "execution_count": 126,
   "metadata": {},
   "outputs": [
    {
     "name": "stdout",
     "output_type": "stream",
     "text": [
      "kemarin saya datang ke tempat makan baru yang ada di dago atas . saya kira makanan nya enak karena harga nya mahal, ternyata jangankan jangankan\n"
     ]
    }
   ],
   "source": [
    "#memanggil kata pada index ke 1\n",
    "komen_tf = komentar[1]\n",
    "print (komen_tf)"
   ]
  },
  {
   "cell_type": "code",
   "execution_count": 127,
   "metadata": {},
   "outputs": [
    {
     "name": "stdout",
     "output_type": "stream",
     "text": [
      "  (0, 0)\t1\n",
      "  (0, 2)\t1\n",
      "  (0, 3)\t1\n",
      "  (0, 6)\t1\n",
      "  (0, 7)\t1\n",
      "  (0, 9)\t1\n",
      "  (0, 11)\t1\n",
      "  (0, 13)\t1\n",
      "  (0, 16)\t2\n",
      "  (0, 17)\t1\n",
      "  (0, 18)\t1\n",
      "  (0, 19)\t1\n",
      "  (0, 23)\t1\n",
      "  (0, 29)\t1\n",
      "  (0, 30)\t1\n",
      "  (0, 31)\t1\n",
      "  (0, 35)\t2\n",
      "  (0, 41)\t2\n",
      "  (0, 48)\t1\n",
      "  (0, 51)\t1\n",
      "  (0, 54)\t1\n"
     ]
    }
   ],
   "source": [
    "#hanya menampilkan hasil dokument 1\n",
    "term_frequency = term_fit.transform([komen_tf])\n",
    "print (term_frequency)"
   ]
  },
  {
   "cell_type": "code",
   "execution_count": 128,
   "metadata": {},
   "outputs": [
    {
     "name": "stdout",
     "output_type": "stream",
     "text": [
      "[2.09861229 2.5040774  2.5040774  2.5040774  2.5040774  2.5040774\n",
      " 2.5040774  2.5040774  2.5040774  2.09861229 2.5040774  2.5040774\n",
      " 2.5040774  2.5040774  2.09861229 2.09861229 2.5040774  2.5040774\n",
      " 2.09861229 2.5040774  2.5040774  2.5040774  2.5040774  2.5040774\n",
      " 2.5040774  2.5040774  2.09861229 2.5040774  2.5040774  2.5040774\n",
      " 2.5040774  2.5040774  2.09861229 2.5040774  2.5040774  1.58778666\n",
      " 2.5040774  2.5040774  2.5040774  2.5040774  2.5040774  1.40546511\n",
      " 2.5040774  2.5040774  2.5040774  2.5040774  2.5040774  2.5040774\n",
      " 1.81093022 2.09861229 2.5040774  2.5040774  1.40546511 2.5040774\n",
      " 2.09861229]\n",
      "  (0, 54)\t0.1739933410600834\n",
      "  (0, 51)\t0.20760995010405361\n",
      "  (0, 48)\t0.15014197736643908\n",
      "  (0, 41)\t0.2330507366449377\n",
      "  (0, 35)\t0.2632828447719599\n",
      "  (0, 31)\t0.20760995010405361\n",
      "  (0, 30)\t0.20760995010405361\n",
      "  (0, 29)\t0.20760995010405361\n",
      "  (0, 23)\t0.20760995010405361\n",
      "  (0, 19)\t0.20760995010405361\n",
      "  (0, 18)\t0.1739933410600834\n",
      "  (0, 17)\t0.20760995010405361\n",
      "  (0, 16)\t0.41521990020810723\n",
      "  (0, 13)\t0.20760995010405361\n",
      "  (0, 11)\t0.20760995010405361\n",
      "  (0, 9)\t0.1739933410600834\n",
      "  (0, 7)\t0.20760995010405361\n",
      "  (0, 6)\t0.20760995010405361\n",
      "  (0, 3)\t0.20760995010405361\n",
      "  (0, 2)\t0.20760995010405361\n",
      "  (0, 0)\t0.1739933410600834\n"
     ]
    }
   ],
   "source": [
    "#hasil perhitungan tf-idf dalam 1 dokumen\n",
    "dokumen = term_fit.transform(komentar)\n",
    "tfidf_transformer = TfidfTransformer().fit(dokumen)\n",
    "print (tfidf_transformer.idf_)\n",
    "\n",
    "tfidf=tfidf_transformer.transform(term_frequency)\n",
    "\n",
    "#hasil manual dengan python\n",
    "print (tfidf)"
   ]
  },
  {
   "cell_type": "code",
   "execution_count": null,
   "metadata": {},
   "outputs": [],
   "source": []
  }
 ],
 "metadata": {
  "kernelspec": {
   "display_name": "Python 3",
   "language": "python",
   "name": "python3"
  },
  "language_info": {
   "codemirror_mode": {
    "name": "ipython",
    "version": 3
   },
   "file_extension": ".py",
   "mimetype": "text/x-python",
   "name": "python",
   "nbconvert_exporter": "python",
   "pygments_lexer": "ipython3",
   "version": "3.8.5"
  }
 },
 "nbformat": 4,
 "nbformat_minor": 4
}
